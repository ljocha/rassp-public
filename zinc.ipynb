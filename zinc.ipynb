{
 "cells": [
  {
   "cell_type": "code",
   "execution_count": 1,
   "id": "c5d5ee74-62f7-47f4-8af3-acfc650043d2",
   "metadata": {
    "tags": []
   },
   "outputs": [],
   "source": [
    "from rdkit import Chem"
   ]
  },
  {
   "cell_type": "code",
   "execution_count": 2,
   "id": "1125a506-9062-47e2-8130-8f023a52ce4b",
   "metadata": {
    "tags": []
   },
   "outputs": [],
   "source": [
    "from rassp.msutil.masscompute import FragmentFormulaPeakEnumerator\n",
    "\n",
    "#valid_atoms = {1, 5, 6, 7, 8, 9, 14, 15, 16, 17, 35, 53}\n",
    "valid_atoms = {1, 6, 7, 8, 9, 15, 16, 17}\n",
    "num_peaks_per_formula = 12\n",
    "#max_formulae = 100000\n",
    "max_formulae = 4096\n",
    "\n",
    "ffe = FragmentFormulaPeakEnumerator(sorted(valid_atoms), use_highres=True, max_peak_num=num_peaks_per_formula)\n",
    "\n",
    "def goodmol(mol):\n",
    "        if len(mol.GetAtoms()) > 48:\n",
    "            return False\n",
    "        \n",
    "        atoms = { a.GetAtomicNum() for a in mol.GetAtoms() }\n",
    "        if not atoms < valid_atoms:\n",
    "            return False\n",
    "            \n",
    "        f,m = ffe.get_frag_formulae(mol)\n",
    "        if len(f) > max_formulae:\n",
    "            return False\n",
    "\n",
    "        return True\n"
   ]
  },
  {
   "cell_type": "code",
   "execution_count": 10,
   "id": "e22ec0be-aa61-43c6-bb02-dba44f215a36",
   "metadata": {
    "tags": []
   },
   "outputs": [
    {
     "name": "stdout",
     "output_type": "stream",
     "text": [
      "CPU times: user 9.95 s, sys: 31.6 ms, total: 9.98 s\n",
      "Wall time: 9.98 s\n"
     ]
    }
   ],
   "source": [
    "%%time\n",
    "smi = 'zinc/small.smi'\n",
    "smallsmi = []\n",
    "\n",
    "with open(smi) as sf:\n",
    "    smallsmi = [ s for s in sf if goodmol(Chem.AddHs(Chem.MolFromSmiles(s))) ]\n",
    "\n"
   ]
  },
  {
   "cell_type": "code",
   "execution_count": 9,
   "id": "5428fa45-d202-4d6c-87fd-02ff8720e7a7",
   "metadata": {
    "tags": []
   },
   "outputs": [
    {
     "data": {
      "text/plain": [
       "470"
      ]
     },
     "execution_count": 9,
     "metadata": {},
     "output_type": "execute_result"
    }
   ],
   "source": [
    "len(smallsmi)"
   ]
  },
  {
   "cell_type": "code",
   "execution_count": 13,
   "id": "6eefd295-1266-4ce4-855a-c18fc2eb04c7",
   "metadata": {},
   "outputs": [
    {
     "data": {
      "text/plain": [
       "12"
      ]
     },
     "execution_count": 13,
     "metadata": {},
     "output_type": "execute_result"
    }
   ],
   "source": [
    "import multiprocessing\n",
    "\n",
    "try:\n",
    "    cpus = multiprocessing.cpu_count()\n",
    "except NotImplementedError:\n",
    "    cpus = 2   # arbitrary default\n",
    "\n",
    "cpus //= 2 # ht\n",
    "cpus"
   ]
  },
  {
   "cell_type": "code",
   "execution_count": null,
   "id": "ff78cc18-6ffc-4ce8-a675-b0cf18e76cfd",
   "metadata": {},
   "outputs": [
    {
     "name": "stderr",
     "output_type": "stream",
     "text": [
      "[14:30:38] Explicit valence for atom # 22 F, 2, is greater than permitted\n",
      "[14:51:18] Explicit valence for atom # 25 O, 3, is greater than permitted\n",
      "[15:05:47] Explicit valence for atom # 20 O, 3, is greater than permitted\n",
      "[15:15:32] Explicit valence for atom # 29 O, 3, is greater than permitted\n",
      "[15:26:53] Explicit valence for atom # 22 Cl, 2, is greater than permitted\n",
      "[15:31:19] SMILES Parse Error: unclosed ring for input: 'O=C1CCC(CN1)c1nnc(n1CC1CCCCO1)N1CCC(CC(NC(=O)c1cnn(c1)C(C)(C)C)CNC(=O)OC(C)(C)C)C\n",
      "'\n",
      "[15:34:02] Explicit valence for atom # 24 O, 3, is greater than permitted\n",
      "[15:42:26] Explicit valence for atom # 18 F, 2, is greater than permitted\n"
     ]
    }
   ],
   "source": [
    "%%time\n",
    "\n",
    "smi='zinc/30M.smi'\n",
    "pool = multiprocessing.Pool(processes=cpus)\n",
    "\n",
    "def goodsmiles(s):\n",
    "    return goodmol(Chem.AddHs(Chem.MolFromSmiles(s)))\n",
    "\n",
    "with open(smi) as sf:\n",
    "    sfs = list(sf)\n",
    "    \n",
    "good = pool.map(goodsmiles, sfs)\n",
    "\n",
    "smallsmi = [ x[0] for x in zip(sfs,good) if x[1] ]"
   ]
  },
  {
   "cell_type": "code",
   "execution_count": null,
   "id": "8b1dcc25-79d5-4356-b861-9ad51f8bf3bb",
   "metadata": {},
   "outputs": [],
   "source": [
    "len(smallsmi)"
   ]
  },
  {
   "cell_type": "code",
   "execution_count": null,
   "id": "3db61343-0f9c-4f3d-b525-b75889ad4944",
   "metadata": {},
   "outputs": [],
   "source": []
  }
 ],
 "metadata": {
  "kernelspec": {
   "display_name": "Python 3 (ipykernel)",
   "language": "python",
   "name": "python3"
  },
  "language_info": {
   "codemirror_mode": {
    "name": "ipython",
    "version": 3
   },
   "file_extension": ".py",
   "mimetype": "text/x-python",
   "name": "python",
   "nbconvert_exporter": "python",
   "pygments_lexer": "ipython3",
   "version": "3.10.8"
  }
 },
 "nbformat": 4,
 "nbformat_minor": 5
}
