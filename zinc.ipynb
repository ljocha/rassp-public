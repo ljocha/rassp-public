{
 "cells": [
  {
   "cell_type": "code",
   "execution_count": 2,
   "id": "c5d5ee74-62f7-47f4-8af3-acfc650043d2",
   "metadata": {
    "tags": []
   },
   "outputs": [],
   "source": [
    "from rdkit import Chem"
   ]
  },
  {
   "cell_type": "code",
   "execution_count": 3,
   "id": "1125a506-9062-47e2-8130-8f023a52ce4b",
   "metadata": {
    "tags": []
   },
   "outputs": [],
   "source": [
    "from rassp.msutil.masscompute import FragmentFormulaPeakEnumerator\n",
    "\n",
    "#valid_atoms = {1, 5, 6, 7, 8, 9, 14, 15, 16, 17, 35, 53}\n",
    "valid_atoms = {1, 6, 7, 8, 9, 15, 16, 17}\n",
    "num_peaks_per_formula = 12\n",
    "#max_formulae = 100000\n",
    "max_formulae = 4096\n",
    "\n",
    "ffe = FragmentFormulaPeakEnumerator(sorted(valid_atoms), use_highres=True, max_peak_num=num_peaks_per_formula)\n",
    "\n",
    "def goodmol(mol):\n",
    "        if len(mol.GetAtoms()) > 48:\n",
    "            return False\n",
    "        \n",
    "        atoms = { a.GetAtomicNum() for a in mol.GetAtoms() }\n",
    "        if not atoms < valid_atoms:\n",
    "            return False\n",
    "            \n",
    "        f,m = ffe.get_frag_formulae(mol)\n",
    "        if len(f) > max_formulae:\n",
    "            return False\n",
    "\n",
    "        return True\n"
   ]
  },
  {
   "cell_type": "code",
   "execution_count": 13,
   "id": "e22ec0be-aa61-43c6-bb02-dba44f215a36",
   "metadata": {
    "tags": []
   },
   "outputs": [],
   "source": [
    "# smi = '30M.smi'\n",
    "smi = '10k2.smi'\n",
    "smallsmi = []\n",
    "\n",
    "with open(smi) as sf:\n",
    "    smallsmi = [ s for s in sf if goodmol(Chem.AddHs(Chem.MolFromSmiles(s))) ]\n",
    "\n"
   ]
  },
  {
   "cell_type": "code",
   "execution_count": 14,
   "id": "5428fa45-d202-4d6c-87fd-02ff8720e7a7",
   "metadata": {
    "tags": []
   },
   "outputs": [
    {
     "data": {
      "text/plain": [
       "1683"
      ]
     },
     "execution_count": 14,
     "metadata": {},
     "output_type": "execute_result"
    }
   ],
   "source": [
    "len(smallsmi)"
   ]
  },
  {
   "cell_type": "code",
   "execution_count": null,
   "id": "7da0fa4d-41ff-46ac-bb19-0ca3f69cd168",
   "metadata": {},
   "outputs": [],
   "source": []
  }
 ],
 "metadata": {
  "kernelspec": {
   "display_name": "Python 3 (ipykernel)",
   "language": "python",
   "name": "python3"
  },
  "language_info": {
   "codemirror_mode": {
    "name": "ipython",
    "version": 3
   },
   "file_extension": ".py",
   "mimetype": "text/x-python",
   "name": "python",
   "nbconvert_exporter": "python",
   "pygments_lexer": "ipython3",
   "version": "3.8.13"
  }
 },
 "nbformat": 4,
 "nbformat_minor": 5
}
