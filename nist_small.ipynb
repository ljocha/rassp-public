{
 "cells": [
  {
   "cell_type": "code",
   "execution_count": 6,
   "id": "ec678cfa-52b3-49a0-a701-2e95dec4c0a0",
   "metadata": {},
   "outputs": [],
   "source": [
    "import re\n",
    "from rdkit import Chem"
   ]
  },
  {
   "cell_type": "code",
   "execution_count": 1,
   "id": "1d925c11-8fad-4d21-b21a-7076951e65cf",
   "metadata": {},
   "outputs": [],
   "source": [
    "from rassp.msutil.masscompute import FragmentFormulaPeakEnumerator\n",
    "\n",
    "#valid_atoms = {1, 5, 6, 7, 8, 9, 14, 15, 16, 17, 35, 53}\n",
    "valid_atoms = {1, 6, 7, 8, 9, 15, 16, 17}\n",
    "num_peaks_per_formula = 12\n",
    "#max_formulae = 100000\n",
    "max_formulae = 4096\n",
    "\n",
    "ffe = FragmentFormulaPeakEnumerator(sorted(valid_atoms), use_highres=True, max_peak_num=num_peaks_per_formula)\n",
    "\n",
    "def goodmol(mol):\n",
    "        if len(mol.GetAtoms()) > 48:\n",
    "            return False\n",
    "        \n",
    "        atoms = { a.GetAtomicNum() for a in mol.GetAtoms() }\n",
    "        if not atoms < valid_atoms:\n",
    "            return False\n",
    "            \n",
    "        f,m = ffe.get_frag_formulae(mol)\n",
    "        if len(f) > max_formulae:\n",
    "            return False\n",
    "\n",
    "        return True\n"
   ]
  },
  {
   "cell_type": "code",
   "execution_count": 14,
   "id": "c4b395f2-1d14-4df0-b157-6c8631bc15bc",
   "metadata": {},
   "outputs": [
    {
     "name": "stderr",
     "output_type": "stream",
     "text": [
      "[12:01:32] WARNING: not removing hydrogen atom without neighbors\n",
      "[12:01:34] Explicit valence for atom # 0 C, 5, is greater than permitted\n",
      "[12:01:38] Explicit valence for atom # 0 B, 5, is greater than permitted\n",
      "[12:02:00] Explicit valence for atom # 8 Br, 5, is greater than permitted\n"
     ]
    }
   ],
   "source": [
    "with open('nist-test.msp') as f,open('nist-test-small.smi','w') as o:\n",
    "    for l in f:\n",
    "        m = re.match('SMILES: *(.*)\\n',l)\n",
    "        if not m: continue\n",
    "        mol=Chem.MolFromSmiles(m.group(1))\n",
    "        if not mol: continue\n",
    "        if goodmol(Chem.AddHs(mol)):\n",
    "            o.write(m.group(1))\n",
    "            o.write('\\n')"
   ]
  },
  {
   "cell_type": "code",
   "execution_count": 15,
   "id": "ca18d544-82c0-4837-9fdc-dc9c11e5301d",
   "metadata": {},
   "outputs": [
    {
     "name": "stderr",
     "output_type": "stream",
     "text": [
      "[12:03:11] WARNING: not removing hydrogen atom without neighbors\n",
      "[12:03:11] Explicit valence for atom # 0 B, 6, is greater than permitted\n",
      "[12:03:29] WARNING: not removing hydrogen atom without neighbors\n",
      "[12:03:30] WARNING: not removing hydrogen atom without neighbors\n",
      "[12:03:34] WARNING: not removing hydrogen atom without neighbors\n",
      "[12:03:37] WARNING: not removing hydrogen atom without neighbors\n",
      "[12:03:41] SMILES Parse Error: syntax error while parsing: [CH-]1|2C|3=C|4C|5=C1|[Fe]6789|2|3|4|5|[N-]%10[CH-]6[CH-]7[CH-]8[CH-]9%10\n",
      "[12:03:41] SMILES Parse Error: Failed parsing SMILES '[CH-]1|2C|3=C|4C|5=C1|[Fe]6789|2|3|4|5|[N-]%10[CH-]6[CH-]7[CH-]8[CH-]9%10' for input: '[CH-]1|2C|3=C|4C|5=C1|[Fe]6789|2|3|4|5|[N-]%10[CH-]6[CH-]7[CH-]8[CH-]9%10'\n",
      "[12:03:42] WARNING: not removing hydrogen atom without neighbors\n",
      "[12:03:49] Explicit valence for atom # 2 C, 5, is greater than permitted\n",
      "[12:03:53] WARNING: not removing hydrogen atom without neighbors\n",
      "[12:03:53] Explicit valence for atom # 7 Br, 3, is greater than permitted\n",
      "[12:03:59] Explicit valence for atom # 1 Cl, 7, is greater than permitted\n",
      "[12:04:05] SMILES Parse Error: syntax error while parsing: [Ni]|1|2(|[S-]C(=C([S-]|1)c3ccccc3)c4ccccc4)|[S-]C(=C([S-]|2)c5ccccc5)c6ccccc6\n",
      "[12:04:05] SMILES Parse Error: Failed parsing SMILES '[Ni]|1|2(|[S-]C(=C([S-]|1)c3ccccc3)c4ccccc4)|[S-]C(=C([S-]|2)c5ccccc5)c6ccccc6' for input: '[Ni]|1|2(|[S-]C(=C([S-]|1)c3ccccc3)c4ccccc4)|[S-]C(=C([S-]|2)c5ccccc5)c6ccccc6'\n",
      "[12:04:05] WARNING: not removing hydrogen atom without neighbors\n",
      "[12:04:17] WARNING: not removing hydrogen atom without neighbors\n",
      "[12:04:19] Explicit valence for atom # 18 Br, 3, is greater than permitted\n",
      "[12:04:23] WARNING: not removing hydrogen atom without neighbors\n",
      "[12:04:50] WARNING: not removing hydrogen atom without neighbors\n",
      "[12:04:52] WARNING: not removing hydrogen atom without neighbors\n",
      "[12:04:59] WARNING: not removing hydrogen atom without neighbors\n",
      "[12:05:06] SMILES Parse Error: syntax error while parsing: [CH-]1|2C|3=C|4C|5=C1|[Mn]6789|2|3|4|5[CH-]%10[CH-]6[CH-]7[CH-]8[CH-]9%10\n",
      "[12:05:06] SMILES Parse Error: Failed parsing SMILES '[CH-]1|2C|3=C|4C|5=C1|[Mn]6789|2|3|4|5[CH-]%10[CH-]6[CH-]7[CH-]8[CH-]9%10' for input: '[CH-]1|2C|3=C|4C|5=C1|[Mn]6789|2|3|4|5[CH-]%10[CH-]6[CH-]7[CH-]8[CH-]9%10'\n",
      "[12:05:31] WARNING: not removing hydrogen atom without neighbors\n",
      "[12:05:38] WARNING: not removing hydrogen atom without neighbors\n",
      "[12:05:43] WARNING: not removing hydrogen atom without neighbors\n",
      "[12:06:15] WARNING: not removing hydrogen atom without neighbors\n",
      "[12:06:21] WARNING: not removing hydrogen atom without neighbors\n",
      "[12:07:23] WARNING: not removing hydrogen atom without neighbors\n",
      "[12:07:36] WARNING: not removing hydrogen atom without neighbors\n",
      "[12:07:40] WARNING: not removing hydrogen atom without neighbors\n",
      "[12:08:05] WARNING: not removing hydrogen atom without neighbors\n",
      "[12:08:12] WARNING: not removing hydrogen atom without neighbors\n",
      "[12:08:19] SMILES Parse Error: syntax error while parsing: [CH-]1|2C|3=C|4C|5=C1|[Fe]6789|2|3|4|5|[N-]%10[CH-]6[CH-]7[CH-]8[CH-]9%10\n",
      "[12:08:19] SMILES Parse Error: Failed parsing SMILES '[CH-]1|2C|3=C|4C|5=C1|[Fe]6789|2|3|4|5|[N-]%10[CH-]6[CH-]7[CH-]8[CH-]9%10' for input: '[CH-]1|2C|3=C|4C|5=C1|[Fe]6789|2|3|4|5|[N-]%10[CH-]6[CH-]7[CH-]8[CH-]9%10'\n",
      "[12:08:25] WARNING: not removing hydrogen atom without neighbors\n",
      "[12:08:25] WARNING: not removing hydrogen atom without neighbors\n",
      "[12:08:25] WARNING: not removing hydrogen atom without neighbors\n",
      "[12:08:25] WARNING: not removing hydrogen atom without neighbors\n",
      "[12:08:27] SMILES Parse Error: syntax error while parsing: [CH-]1|2C|3=C|4C|5=C1|[Co]6789|2|3|4|5[CH-]%10B([CH-]6[CH-]7[CH-]8[CH-]9%10)c%11ccccc%11\n",
      "[12:08:27] SMILES Parse Error: Failed parsing SMILES '[CH-]1|2C|3=C|4C|5=C1|[Co]6789|2|3|4|5[CH-]%10B([CH-]6[CH-]7[CH-]8[CH-]9%10)c%11ccccc%11' for input: '[CH-]1|2C|3=C|4C|5=C1|[Co]6789|2|3|4|5[CH-]%10B([CH-]6[CH-]7[CH-]8[CH-]9%10)c%11ccccc%11'\n",
      "[12:08:39] WARNING: not removing hydrogen atom without neighbors\n",
      "[12:08:40] WARNING: not removing hydrogen atom without neighbors\n",
      "[12:08:53] WARNING: not removing hydrogen atom without neighbors\n",
      "[12:08:56] Explicit valence for atom # 1 C, 5, is greater than permitted\n",
      "[12:09:02] Explicit valence for atom # 0 B, 5, is greater than permitted\n",
      "[12:09:07] WARNING: not removing hydrogen atom without neighbors\n",
      "[12:09:14] WARNING: not removing hydrogen atom without neighbors\n",
      "[12:09:15] WARNING: not removing hydrogen atom without neighbors\n",
      "[12:09:15] Explicit valence for atom # 0 B, 5, is greater than permitted\n"
     ]
    }
   ],
   "source": [
    "with open('nist-train.msp') as f,open('nist-train-small.smi','w') as o:\n",
    "    for l in f:\n",
    "        m = re.match('SMILES: *(.*)\\n',l)\n",
    "        if not m: continue\n",
    "        mol=Chem.MolFromSmiles(m.group(1))\n",
    "        if not mol: continue\n",
    "        if goodmol(Chem.AddHs(mol)):\n",
    "            o.write(m.group(1))\n",
    "            o.write('\\n')"
   ]
  },
  {
   "cell_type": "code",
   "execution_count": null,
   "id": "43bbb407-9bb8-4f2d-8ba6-bc04904c3560",
   "metadata": {},
   "outputs": [],
   "source": []
  }
 ],
 "metadata": {
  "kernelspec": {
   "display_name": "Python 3 (ipykernel)",
   "language": "python",
   "name": "python3"
  },
  "language_info": {
   "codemirror_mode": {
    "name": "ipython",
    "version": 3
   },
   "file_extension": ".py",
   "mimetype": "text/x-python",
   "name": "python",
   "nbconvert_exporter": "python",
   "pygments_lexer": "ipython3",
   "version": "3.10.8"
  }
 },
 "nbformat": 4,
 "nbformat_minor": 5
}
