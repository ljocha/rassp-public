{
 "cells": [
  {
   "cell_type": "code",
   "execution_count": 1,
   "id": "9e368b48-a085-4ee4-9180-a2d2e7e8dda4",
   "metadata": {
    "tags": []
   },
   "outputs": [],
   "source": [
    "import os\n",
    "os.environ[\"PYTORCH_CUDA_ALLOC_CONF\"] = \"max_split_size_mb:512\"\n",
    "os.environ[\"OMP_NUM_THREADS\"] = \"12\"\n",
    "\n",
    "import torch"
   ]
  },
  {
   "cell_type": "code",
   "execution_count": 2,
   "id": "131d7997-1851-47da-9953-0fe543642958",
   "metadata": {
    "tags": []
   },
   "outputs": [],
   "source": [
    "\n",
    "import time\n",
    "import yaml\n",
    "import pandas as pd\n",
    "from rdkit import Chem"
   ]
  },
  {
   "cell_type": "code",
   "execution_count": null,
   "id": "52c75f01-23bf-4dc2-9873-b935b61d3bb8",
   "metadata": {
    "tags": []
   },
   "outputs": [],
   "source": [
    "from rassp.msutil.masscompute import FragmentFormulaPeakEnumerator\n",
    "\n",
    "#valid_atoms = {1, 5, 6, 7, 8, 9, 14, 15, 16, 17, 35, 53}\n",
    "valid_atoms = {1, 6, 7, 8, 9, 15, 16, 17}\n",
    "num_peaks_per_formula = 12\n",
    "#max_formulae = 100000\n",
    "max_formulae = 4096\n",
    "\n",
    "ffe = FragmentFormulaPeakEnumerator(sorted(valid_atoms), use_highres=True, max_peak_num=num_peaks_per_formula)\n",
    "\n",
    "def goodmol(mol):\n",
    "        if len(mol.GetAtoms()) > 48:\n",
    "            return False\n",
    "        \n",
    "        atoms = { a.GetAtomicNum() for a in mol.GetAtoms() }\n",
    "        if not atoms < valid_atoms:\n",
    "            return False\n",
    "            \n",
    "        f,m = ffe.get_frag_formulae(mol)\n",
    "        if len(f) > max_formulae:\n",
    "            return False\n",
    "\n",
    "        return True\n"
   ]
  },
  {
   "cell_type": "code",
   "execution_count": null,
   "id": "ecb3b6ce-2719-4f3b-8f9f-1435a5b76e51",
   "metadata": {
    "tags": []
   },
   "outputs": [],
   "source": [
    "test = pd.read_parquet('test.pq')\n",
    "test"
   ]
  },
  {
   "cell_type": "code",
   "execution_count": null,
   "id": "c60d2642-62c5-4589-9017-ac440e3d1e91",
   "metadata": {
    "tags": []
   },
   "outputs": [],
   "source": [
    "smalltest = test[[ goodmol(Chem.AddHs(Chem.Mol(m))) for m in test.rdmol ]]\n",
    "smalltest"
   ]
  },
  {
   "cell_type": "code",
   "execution_count": null,
   "id": "2c315e21-2411-469e-a556-7bde9dab99f6",
   "metadata": {
    "tags": []
   },
   "outputs": [],
   "source": [
    "smalltest.to_parquet('smalltest.pq')"
   ]
  },
  {
   "cell_type": "code",
   "execution_count": null,
   "id": "f3da8134-d62f-427c-ae30-a26d3fdfbdc7",
   "metadata": {
    "tags": []
   },
   "outputs": [],
   "source": [
    "train = pd.read_parquet('train.pq')\n",
    "train"
   ]
  },
  {
   "cell_type": "code",
   "execution_count": null,
   "id": "61ee2e54-ce22-49f6-917a-a36bf546c1b2",
   "metadata": {
    "tags": []
   },
   "outputs": [],
   "source": [
    "smalltrain = train[[ goodmol(Chem.AddHs(Chem.Mol(m))) for m in train.rdmol ]]\n",
    "smalltrain"
   ]
  },
  {
   "cell_type": "code",
   "execution_count": null,
   "id": "b18ad520-0285-48ac-a27a-59078a6e436d",
   "metadata": {
    "tags": []
   },
   "outputs": [],
   "source": [
    "smalltrain.to_parquet('smalltrain.pq')"
   ]
  },
  {
   "cell_type": "code",
   "execution_count": null,
   "id": "d23572a1-ec56-4fdb-8789-baee1465314d",
   "metadata": {},
   "outputs": [],
   "source": [
    "len(train) + len(test)"
   ]
  },
  {
   "cell_type": "code",
   "execution_count": null,
   "id": "5d4b97bc-8099-411a-a9bd-d26535a8052d",
   "metadata": {},
   "outputs": [],
   "source": [
    "pd.read_parquet('smalltest.pq')"
   ]
  },
  {
   "cell_type": "code",
   "execution_count": 3,
   "id": "8a72fd00-82a5-47af-a3f9-3911fd9a109a",
   "metadata": {
    "tags": []
   },
   "outputs": [],
   "source": [
    "import sys\n",
    "sys.path.append('./rassp')\n",
    "from forward_train import train as rassp_train\n"
   ]
  },
  {
   "cell_type": "code",
   "execution_count": 4,
   "id": "e0bc0ab7-dbf2-453f-9b22-f1349cf180bc",
   "metadata": {
    "tags": []
   },
   "outputs": [],
   "source": [
    "with open('rassp/expconfig/demo.yaml') as cf:\n",
    "    exp_config = yaml.load(cf,Loader=yaml.FullLoader)\n"
   ]
  },
  {
   "cell_type": "code",
   "execution_count": 12,
   "id": "1fd5ec9f-ccf2-4af5-8a20-f76cd71fd44f",
   "metadata": {
    "tags": []
   },
   "outputs": [],
   "source": [
    "exp_config['max_epochs'] = 3000\n",
    "exp_config['epoch_size'] = 4096\n",
    "exp_config['seed'] = int(time.time())\n",
    "exp_config['batch_size'] = 8\n",
    "exp_config['checkpoint_every_n_epochs'] = 1\n",
    "exp_config['attempt_load_recent_checkpoint'] = True\n",
    "exp_config['validate_every'] = 10\n",
    "exp_config['cluster_config']['data_dir'] = '.'\n",
    "exp_config['DATALOADER_NUM_WORKERS'] = 2\n",
    "exp_config['exp_data']['data'][0]['db_filename'] = 'smalltrain.pq'\n",
    "exp_config['exp_data']['data'][1]['db_filename'] = 'smalltest.pq'\n",
    "\n",
    "with open('exp.yml','w') as y:\n",
    "    yaml.dump(exp_config,y)\n"
   ]
  },
  {
   "cell_type": "code",
   "execution_count": null,
   "id": "642b8c73-16b4-4742-9bc6-00f17204153b",
   "metadata": {
    "tags": []
   },
   "outputs": [],
   "source": [
    "%%capture\n",
    "rassp_train('small',exp_config,exp_config_filename='exp.yml',USE_CUDA=True)"
   ]
  },
  {
   "cell_type": "code",
   "execution_count": null,
   "id": "e4c70baa-ebcc-4f09-836d-7163f4b60712",
   "metadata": {},
   "outputs": [],
   "source": []
  }
 ],
 "metadata": {
  "kernelspec": {
   "display_name": "Python 3 (ipykernel)",
   "language": "python",
   "name": "python3"
  },
  "language_info": {
   "codemirror_mode": {
    "name": "ipython",
    "version": 3
   },
   "file_extension": ".py",
   "mimetype": "text/x-python",
   "name": "python",
   "nbconvert_exporter": "python",
   "pygments_lexer": "ipython3",
   "version": "3.8.13"
  }
 },
 "nbformat": 4,
 "nbformat_minor": 5
}
