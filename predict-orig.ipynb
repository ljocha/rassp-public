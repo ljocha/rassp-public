{
 "cells": [
  {
   "cell_type": "code",
   "execution_count": null,
   "id": "a18f7ff2-1119-4a97-9d7a-5195d9eef8d8",
   "metadata": {
    "tags": []
   },
   "outputs": [],
   "source": [
    "import pandas as pd\n",
    "import urllib\n",
    "import pickle\n",
    "import rassp\n",
    "from rassp import netutil\n",
    "from rdkit import Chem\n",
    "import numpy as np\n",
    "import torch\n",
    "import matchms\n",
    "import matplotlib.pyplot as plt"
   ]
  },
  {
   "cell_type": "code",
   "execution_count": null,
   "id": "cacb424d-d35e-448a-b96f-6931a5980bc6",
   "metadata": {
    "tags": []
   },
   "outputs": [],
   "source": [
    "from rassp import msutil,model\n",
    "import sys\n",
    "sys.modules['msutil'] = msutil\n",
    "sys.modules['model'] = model"
   ]
  },
  {
   "cell_type": "code",
   "execution_count": null,
   "id": "9b6175a2-56c3-4345-8eed-5b8b0a16a16b",
   "metadata": {
    "tags": []
   },
   "outputs": [],
   "source": [
    "base='https://people.cs.uchicago.edu/~ericj/rassp/'\n",
    "files=[ 'formulanet_best_candidate_pcsim_pretrain.nist-fromscratch-3x9x128.35790555.00000740.model',    \n",
    "'formulanet_best_candidate_pcsim_pretrain.nist-fromscratch-3x9x128.35790555.meta',\n",
    "#'subsetnet_best_candidate_nist_fromscratch.nist-fromscratch-test01-old-1x2048.36688199.00001000.model', \n",
    "#'subsetnet_best_candidate_nist_fromscratch.nist-fromscratch-test01-old-1x2048.36688199.meta',   \n",
    "#'subsetnet_best_candidate_nist_posttrain_cluster.cluster-nist-posttrain.35946017.00000480.model',\n",
    "#'subsetnet_best_candidate_nist_posttrain_cluster.cluster-nist-posttrain.35946017.meta'\n",
    "]\n",
    "\n",
    "for f in files:\n",
    "    urllib.request.urlretrieve(f'{base}/{f}',f)"
   ]
  },
  {
   "cell_type": "code",
   "execution_count": null,
   "id": "0adfb05b-1cd1-4d50-8209-842716f69b7e",
   "metadata": {
    "tags": []
   },
   "outputs": [],
   "source": [
    "from rassp.msutil.masscompute import FragmentFormulaPeakEnumerator\n",
    "\n",
    "#valid_atoms = {1, 5, 6, 7, 8, 9, 14, 15, 16, 17, 35, 53}\n",
    "valid_atoms = {1, 6, 7, 8, 9, 15, 16, 17}\n",
    "num_peaks_per_formula = 12\n",
    "#max_formulae = 100000\n",
    "max_formulae = 4096\n",
    "\n",
    "ffe = FragmentFormulaPeakEnumerator(sorted(valid_atoms), use_highres=True, max_peak_num=num_peaks_per_formula)\n",
    "\n",
    "def goodmol(mol):\n",
    "        if len(mol.GetAtoms()) > 48:\n",
    "            return False\n",
    "        \n",
    "        atoms = { a.GetAtomicNum() for a in mol.GetAtoms() }\n",
    "        if not atoms < valid_atoms:\n",
    "            return False\n",
    "            \n",
    "        f,m = ffe.get_frag_formulae(mol)\n",
    "        if len(f) > max_formulae:\n",
    "            return False\n",
    "\n",
    "        return True\n"
   ]
  },
  {
   "cell_type": "code",
   "execution_count": 98,
   "id": "d8e27f5b-1fc8-4382-b6bd-d73c3e653bf9",
   "metadata": {
    "tags": []
   },
   "outputs": [
    {
     "data": {
      "text/html": [
       "<div>\n",
       "<style scoped>\n",
       "    .dataframe tbody tr th:only-of-type {\n",
       "        vertical-align: middle;\n",
       "    }\n",
       "\n",
       "    .dataframe tbody tr th {\n",
       "        vertical-align: top;\n",
       "    }\n",
       "\n",
       "    .dataframe thead th {\n",
       "        text-align: right;\n",
       "    }\n",
       "</style>\n",
       "<table border=\"1\" class=\"dataframe\">\n",
       "  <thead>\n",
       "    <tr style=\"text-align: right;\">\n",
       "      <th></th>\n",
       "      <th>rdmol</th>\n",
       "      <th>spect</th>\n",
       "      <th>smiles</th>\n",
       "    </tr>\n",
       "  </thead>\n",
       "  <tbody>\n",
       "    <tr>\n",
       "      <th>8</th>\n",
       "      <td>b'\\xef\\xbe\\xad\\xde\\x00\\x00\\x00\\x00\\r\\x00\\x00\\x...</td>\n",
       "      <td>[[37.0, 14.99], [38.0, 57.95], [39.0, 333.7], ...</td>\n",
       "      <td>CC1=NN(C(=O)C1(C)C)C2=CC=CC=C2</td>\n",
       "    </tr>\n",
       "    <tr>\n",
       "      <th>19</th>\n",
       "      <td>b'\\xef\\xbe\\xad\\xde\\x00\\x00\\x00\\x00\\r\\x00\\x00\\x...</td>\n",
       "      <td>[[15.0, 4.0], [26.0, 6.99], [27.0, 99.91], [28...</td>\n",
       "      <td>CCC(C(C)CC(C)C(=O)CC)O</td>\n",
       "    </tr>\n",
       "    <tr>\n",
       "      <th>20</th>\n",
       "      <td>b'\\xef\\xbe\\xad\\xde\\x00\\x00\\x00\\x00\\r\\x00\\x00\\x...</td>\n",
       "      <td>[[25.0, 7.99], [26.0, 88.92], [27.0, 146.87], ...</td>\n",
       "      <td>CC=NC(CC#N)C#N</td>\n",
       "    </tr>\n",
       "    <tr>\n",
       "      <th>21</th>\n",
       "      <td>b'\\xef\\xbe\\xad\\xde\\x00\\x00\\x00\\x00\\r\\x00\\x00\\x...</td>\n",
       "      <td>[[27.0, 0.5], [28.0, 0.5], [29.0, 2.0], [30.0,...</td>\n",
       "      <td>CCN(CC)CCNC(=O)C1=CC(=C(C=C1OC)N)Cl</td>\n",
       "    </tr>\n",
       "    <tr>\n",
       "      <th>26</th>\n",
       "      <td>b'\\xef\\xbe\\xad\\xde\\x00\\x00\\x00\\x00\\r\\x00\\x00\\x...</td>\n",
       "      <td>[[24.0, 1.0], [25.0, 4.0], [26.0, 30.97], [27....</td>\n",
       "      <td>C1=CC(=NC(=C1)C=O)C=O</td>\n",
       "    </tr>\n",
       "    <tr>\n",
       "      <th>...</th>\n",
       "      <td>...</td>\n",
       "      <td>...</td>\n",
       "      <td>...</td>\n",
       "    </tr>\n",
       "    <tr>\n",
       "      <th>197094</th>\n",
       "      <td>b'\\xef\\xbe\\xad\\xde\\x00\\x00\\x00\\x00\\r\\x00\\x00\\x...</td>\n",
       "      <td>[[14.0, 1.0], [15.0, 12.99], [16.0, 2.0], [17....</td>\n",
       "      <td>COC1=CC=C(C=C1)C2(CC2)C(=O)O</td>\n",
       "    </tr>\n",
       "    <tr>\n",
       "      <th>197096</th>\n",
       "      <td>b'\\xef\\xbe\\xad\\xde\\x00\\x00\\x00\\x00\\r\\x00\\x00\\x...</td>\n",
       "      <td>[[12.0, 2.0], [13.0, 3.0], [14.0, 5.99], [15.0...</td>\n",
       "      <td>C[Si](Cl)Cl</td>\n",
       "    </tr>\n",
       "    <tr>\n",
       "      <th>197099</th>\n",
       "      <td>b'\\xef\\xbe\\xad\\xde\\x00\\x00\\x00\\x00\\r\\x00\\x00\\x...</td>\n",
       "      <td>[[41.0, 11.99], [43.0, 5.99], [44.0, 21.98], [...</td>\n",
       "      <td>C1=CC=C2C(=C1)C(=O)C(=C(C2=O)Cl)NC3=CC=C(C=C3)N</td>\n",
       "    </tr>\n",
       "    <tr>\n",
       "      <th>197102</th>\n",
       "      <td>b'\\xef\\xbe\\xad\\xde\\x00\\x00\\x00\\x00\\r\\x00\\x00\\x...</td>\n",
       "      <td>[[36.0, 0.5], [37.0, 4.0], [39.0, 73.93], [41....</td>\n",
       "      <td>CC1=CC(=C(C(=C1)C)S(=O)(=O)NCCC2=NC3=CC=CC=C3N2)C</td>\n",
       "    </tr>\n",
       "    <tr>\n",
       "      <th>197109</th>\n",
       "      <td>b'\\xef\\xbe\\xad\\xde\\x00\\x00\\x00\\x00\\r\\x00\\x00\\x...</td>\n",
       "      <td>[[15.0, 2.0], [27.0, 71.94], [28.0, 11.99], [2...</td>\n",
       "      <td>CC(C)CCOC1=CC=C(C=C1)C(=O)O</td>\n",
       "    </tr>\n",
       "  </tbody>\n",
       "</table>\n",
       "<p>39349 rows × 3 columns</p>\n",
       "</div>"
      ],
      "text/plain": [
       "                                                    rdmol  \\\n",
       "8       b'\\xef\\xbe\\xad\\xde\\x00\\x00\\x00\\x00\\r\\x00\\x00\\x...   \n",
       "19      b'\\xef\\xbe\\xad\\xde\\x00\\x00\\x00\\x00\\r\\x00\\x00\\x...   \n",
       "20      b'\\xef\\xbe\\xad\\xde\\x00\\x00\\x00\\x00\\r\\x00\\x00\\x...   \n",
       "21      b'\\xef\\xbe\\xad\\xde\\x00\\x00\\x00\\x00\\r\\x00\\x00\\x...   \n",
       "26      b'\\xef\\xbe\\xad\\xde\\x00\\x00\\x00\\x00\\r\\x00\\x00\\x...   \n",
       "...                                                   ...   \n",
       "197094  b'\\xef\\xbe\\xad\\xde\\x00\\x00\\x00\\x00\\r\\x00\\x00\\x...   \n",
       "197096  b'\\xef\\xbe\\xad\\xde\\x00\\x00\\x00\\x00\\r\\x00\\x00\\x...   \n",
       "197099  b'\\xef\\xbe\\xad\\xde\\x00\\x00\\x00\\x00\\r\\x00\\x00\\x...   \n",
       "197102  b'\\xef\\xbe\\xad\\xde\\x00\\x00\\x00\\x00\\r\\x00\\x00\\x...   \n",
       "197109  b'\\xef\\xbe\\xad\\xde\\x00\\x00\\x00\\x00\\r\\x00\\x00\\x...   \n",
       "\n",
       "                                                    spect  \\\n",
       "8       [[37.0, 14.99], [38.0, 57.95], [39.0, 333.7], ...   \n",
       "19      [[15.0, 4.0], [26.0, 6.99], [27.0, 99.91], [28...   \n",
       "20      [[25.0, 7.99], [26.0, 88.92], [27.0, 146.87], ...   \n",
       "21      [[27.0, 0.5], [28.0, 0.5], [29.0, 2.0], [30.0,...   \n",
       "26      [[24.0, 1.0], [25.0, 4.0], [26.0, 30.97], [27....   \n",
       "...                                                   ...   \n",
       "197094  [[14.0, 1.0], [15.0, 12.99], [16.0, 2.0], [17....   \n",
       "197096  [[12.0, 2.0], [13.0, 3.0], [14.0, 5.99], [15.0...   \n",
       "197099  [[41.0, 11.99], [43.0, 5.99], [44.0, 21.98], [...   \n",
       "197102  [[36.0, 0.5], [37.0, 4.0], [39.0, 73.93], [41....   \n",
       "197109  [[15.0, 2.0], [27.0, 71.94], [28.0, 11.99], [2...   \n",
       "\n",
       "                                                   smiles  \n",
       "8                          CC1=NN(C(=O)C1(C)C)C2=CC=CC=C2  \n",
       "19                                 CCC(C(C)CC(C)C(=O)CC)O  \n",
       "20                                         CC=NC(CC#N)C#N  \n",
       "21                    CCN(CC)CCNC(=O)C1=CC(=C(C=C1OC)N)Cl  \n",
       "26                                  C1=CC(=NC(=C1)C=O)C=O  \n",
       "...                                                   ...  \n",
       "197094                       COC1=CC=C(C=C1)C2(CC2)C(=O)O  \n",
       "197096                                        C[Si](Cl)Cl  \n",
       "197099    C1=CC=C2C(=C1)C(=O)C(=C(C2=O)Cl)NC3=CC=C(C=C3)N  \n",
       "197102  CC1=CC(=C(C(=C1)C)S(=O)(=O)NCCC2=NC3=CC=CC=C3N2)C  \n",
       "197109                        CC(C)CCOC1=CC=C(C=C1)C(=O)O  \n",
       "\n",
       "[39349 rows x 3 columns]"
      ]
     },
     "execution_count": 98,
     "metadata": {},
     "output_type": "execute_result"
    }
   ],
   "source": [
    "test = pd.read_parquet('test.pq')\n",
    "test"
   ]
  },
  {
   "cell_type": "code",
   "execution_count": 99,
   "id": "b6ecd344-138b-4685-823f-d449156e6083",
   "metadata": {
    "tags": []
   },
   "outputs": [
    {
     "data": {
      "text/html": [
       "<div>\n",
       "<style scoped>\n",
       "    .dataframe tbody tr th:only-of-type {\n",
       "        vertical-align: middle;\n",
       "    }\n",
       "\n",
       "    .dataframe tbody tr th {\n",
       "        vertical-align: top;\n",
       "    }\n",
       "\n",
       "    .dataframe thead th {\n",
       "        text-align: right;\n",
       "    }\n",
       "</style>\n",
       "<table border=\"1\" class=\"dataframe\">\n",
       "  <thead>\n",
       "    <tr style=\"text-align: right;\">\n",
       "      <th></th>\n",
       "      <th>rdmol</th>\n",
       "      <th>spect</th>\n",
       "      <th>smiles</th>\n",
       "    </tr>\n",
       "  </thead>\n",
       "  <tbody>\n",
       "    <tr>\n",
       "      <th>8</th>\n",
       "      <td>b'\\xef\\xbe\\xad\\xde\\x00\\x00\\x00\\x00\\r\\x00\\x00\\x...</td>\n",
       "      <td>[[37.0, 14.99], [38.0, 57.95], [39.0, 333.7], ...</td>\n",
       "      <td>CC1=NN(C(=O)C1(C)C)C2=CC=CC=C2</td>\n",
       "    </tr>\n",
       "    <tr>\n",
       "      <th>19</th>\n",
       "      <td>b'\\xef\\xbe\\xad\\xde\\x00\\x00\\x00\\x00\\r\\x00\\x00\\x...</td>\n",
       "      <td>[[15.0, 4.0], [26.0, 6.99], [27.0, 99.91], [28...</td>\n",
       "      <td>CCC(C(C)CC(C)C(=O)CC)O</td>\n",
       "    </tr>\n",
       "    <tr>\n",
       "      <th>20</th>\n",
       "      <td>b'\\xef\\xbe\\xad\\xde\\x00\\x00\\x00\\x00\\r\\x00\\x00\\x...</td>\n",
       "      <td>[[25.0, 7.99], [26.0, 88.92], [27.0, 146.87], ...</td>\n",
       "      <td>CC=NC(CC#N)C#N</td>\n",
       "    </tr>\n",
       "    <tr>\n",
       "      <th>26</th>\n",
       "      <td>b'\\xef\\xbe\\xad\\xde\\x00\\x00\\x00\\x00\\r\\x00\\x00\\x...</td>\n",
       "      <td>[[24.0, 1.0], [25.0, 4.0], [26.0, 30.97], [27....</td>\n",
       "      <td>C1=CC(=NC(=C1)C=O)C=O</td>\n",
       "    </tr>\n",
       "    <tr>\n",
       "      <th>37</th>\n",
       "      <td>b'\\xef\\xbe\\xad\\xde\\x00\\x00\\x00\\x00\\r\\x00\\x00\\x...</td>\n",
       "      <td>[[119.0, 79.93], [120.0, 819.26], [121.0, 79.9...</td>\n",
       "      <td>CCCCC1C(=O)N(C2=CC=CC=C2O1)O</td>\n",
       "    </tr>\n",
       "    <tr>\n",
       "      <th>...</th>\n",
       "      <td>...</td>\n",
       "      <td>...</td>\n",
       "      <td>...</td>\n",
       "    </tr>\n",
       "    <tr>\n",
       "      <th>197091</th>\n",
       "      <td>b'\\xef\\xbe\\xad\\xde\\x00\\x00\\x00\\x00\\r\\x00\\x00\\x...</td>\n",
       "      <td>[[45.0, 37.97], [50.0, 27.97], [51.0, 55.95], ...</td>\n",
       "      <td>CC(C1=CC2=C(C=C1)OC(=N2)C3=CC=C(C=C3)Cl)C(=O)O</td>\n",
       "    </tr>\n",
       "    <tr>\n",
       "      <th>197093</th>\n",
       "      <td>b'\\xef\\xbe\\xad\\xde\\x00\\x00\\x00\\x00\\r\\x00\\x00\\x...</td>\n",
       "      <td>[[17.0, 3.0], [18.0, 16.98], [27.0, 8.99], [28...</td>\n",
       "      <td>CCCC(=O)C1=CC(=C(C=C1O)O)O</td>\n",
       "    </tr>\n",
       "    <tr>\n",
       "      <th>197094</th>\n",
       "      <td>b'\\xef\\xbe\\xad\\xde\\x00\\x00\\x00\\x00\\r\\x00\\x00\\x...</td>\n",
       "      <td>[[14.0, 1.0], [15.0, 12.99], [16.0, 2.0], [17....</td>\n",
       "      <td>COC1=CC=C(C=C1)C2(CC2)C(=O)O</td>\n",
       "    </tr>\n",
       "    <tr>\n",
       "      <th>197099</th>\n",
       "      <td>b'\\xef\\xbe\\xad\\xde\\x00\\x00\\x00\\x00\\r\\x00\\x00\\x...</td>\n",
       "      <td>[[41.0, 11.99], [43.0, 5.99], [44.0, 21.98], [...</td>\n",
       "      <td>C1=CC=C2C(=C1)C(=O)C(=C(C2=O)Cl)NC3=CC=C(C=C3)N</td>\n",
       "    </tr>\n",
       "    <tr>\n",
       "      <th>197109</th>\n",
       "      <td>b'\\xef\\xbe\\xad\\xde\\x00\\x00\\x00\\x00\\r\\x00\\x00\\x...</td>\n",
       "      <td>[[15.0, 2.0], [27.0, 71.94], [28.0, 11.99], [2...</td>\n",
       "      <td>CC(C)CCOC1=CC=C(C=C1)C(=O)O</td>\n",
       "    </tr>\n",
       "  </tbody>\n",
       "</table>\n",
       "<p>28082 rows × 3 columns</p>\n",
       "</div>"
      ],
      "text/plain": [
       "                                                    rdmol  \\\n",
       "8       b'\\xef\\xbe\\xad\\xde\\x00\\x00\\x00\\x00\\r\\x00\\x00\\x...   \n",
       "19      b'\\xef\\xbe\\xad\\xde\\x00\\x00\\x00\\x00\\r\\x00\\x00\\x...   \n",
       "20      b'\\xef\\xbe\\xad\\xde\\x00\\x00\\x00\\x00\\r\\x00\\x00\\x...   \n",
       "26      b'\\xef\\xbe\\xad\\xde\\x00\\x00\\x00\\x00\\r\\x00\\x00\\x...   \n",
       "37      b'\\xef\\xbe\\xad\\xde\\x00\\x00\\x00\\x00\\r\\x00\\x00\\x...   \n",
       "...                                                   ...   \n",
       "197091  b'\\xef\\xbe\\xad\\xde\\x00\\x00\\x00\\x00\\r\\x00\\x00\\x...   \n",
       "197093  b'\\xef\\xbe\\xad\\xde\\x00\\x00\\x00\\x00\\r\\x00\\x00\\x...   \n",
       "197094  b'\\xef\\xbe\\xad\\xde\\x00\\x00\\x00\\x00\\r\\x00\\x00\\x...   \n",
       "197099  b'\\xef\\xbe\\xad\\xde\\x00\\x00\\x00\\x00\\r\\x00\\x00\\x...   \n",
       "197109  b'\\xef\\xbe\\xad\\xde\\x00\\x00\\x00\\x00\\r\\x00\\x00\\x...   \n",
       "\n",
       "                                                    spect  \\\n",
       "8       [[37.0, 14.99], [38.0, 57.95], [39.0, 333.7], ...   \n",
       "19      [[15.0, 4.0], [26.0, 6.99], [27.0, 99.91], [28...   \n",
       "20      [[25.0, 7.99], [26.0, 88.92], [27.0, 146.87], ...   \n",
       "26      [[24.0, 1.0], [25.0, 4.0], [26.0, 30.97], [27....   \n",
       "37      [[119.0, 79.93], [120.0, 819.26], [121.0, 79.9...   \n",
       "...                                                   ...   \n",
       "197091  [[45.0, 37.97], [50.0, 27.97], [51.0, 55.95], ...   \n",
       "197093  [[17.0, 3.0], [18.0, 16.98], [27.0, 8.99], [28...   \n",
       "197094  [[14.0, 1.0], [15.0, 12.99], [16.0, 2.0], [17....   \n",
       "197099  [[41.0, 11.99], [43.0, 5.99], [44.0, 21.98], [...   \n",
       "197109  [[15.0, 2.0], [27.0, 71.94], [28.0, 11.99], [2...   \n",
       "\n",
       "                                                 smiles  \n",
       "8                        CC1=NN(C(=O)C1(C)C)C2=CC=CC=C2  \n",
       "19                               CCC(C(C)CC(C)C(=O)CC)O  \n",
       "20                                       CC=NC(CC#N)C#N  \n",
       "26                                C1=CC(=NC(=C1)C=O)C=O  \n",
       "37                         CCCCC1C(=O)N(C2=CC=CC=C2O1)O  \n",
       "...                                                 ...  \n",
       "197091   CC(C1=CC2=C(C=C1)OC(=N2)C3=CC=C(C=C3)Cl)C(=O)O  \n",
       "197093                       CCCC(=O)C1=CC(=C(C=C1O)O)O  \n",
       "197094                     COC1=CC=C(C=C1)C2(CC2)C(=O)O  \n",
       "197099  C1=CC=C2C(=C1)C(=O)C(=C(C2=O)Cl)NC3=CC=C(C=C3)N  \n",
       "197109                      CC(C)CCOC1=CC=C(C=C1)C(=O)O  \n",
       "\n",
       "[28082 rows x 3 columns]"
      ]
     },
     "execution_count": 99,
     "metadata": {},
     "output_type": "execute_result"
    }
   ],
   "source": [
    "smalltest = test[[ goodmol(Chem.AddHs(Chem.Mol(m))) for m in test.rdmol ]]\n",
    "smalltest"
   ]
  },
  {
   "cell_type": "code",
   "execution_count": null,
   "id": "7433ba2c-422e-4bff-9884-0255325f0a10",
   "metadata": {
    "tags": []
   },
   "outputs": [],
   "source": [
    "use_gpu=True\n",
    "model='formulanet_best_candidate_pcsim_pretrain.nist-fromscratch-3x9x128.35790555.00000740.model'\n",
    "meta='formulanet_best_candidate_pcsim_pretrain.nist-fromscratch-3x9x128.35790555.meta'\n",
    "\n",
    "if use_gpu and not torch.cuda.is_available():\n",
    "    use_gpu = False\n",
    "\n",
    "predictor = netutil.PredModel(\n",
    "    meta,\n",
    "    model,\n",
    "    USE_CUDA=use_gpu,\n",
    "    data_parallel=False,\n",
    ")\n"
   ]
  },
  {
   "cell_type": "code",
   "execution_count": 100,
   "id": "293f5291-963a-41dc-a187-94a2aec32425",
   "metadata": {
    "tags": []
   },
   "outputs": [
    {
     "name": "stderr",
     "output_type": "stream",
     "text": [
      "100%|███████████████████████████████████████████████████████████████████████████████████████████████████████████████████████████████████| 5.00k/5.00k [09:51<00:00, 8.46it/s]\n"
     ]
    }
   ],
   "source": [
    "sample = smalltest.sample(5000)\n",
    "#sample = smalltest\n",
    "\n",
    "mols = [ Chem.AddHs(Chem.Mol(m)) for m in sample.rdmol ]\n",
    "\n",
    "predictions = predictor.pred(\n",
    "    mols,\n",
    "    progress_bar=True,\n",
    "    normalize_pred=True,\n",
    "    output_hist_bins=True,\n",
    "    batch_size=1, # XXX\n",
    "    dataloader_config={\n",
    "        'pin_memory': False,\n",
    "        'num_workers': 0, # XXX\n",
    "        'persistent_workers': False,\n",
    "    },\n",
    "    benchmark_dataloader=False,\n",
    ")\n"
   ]
  },
  {
   "cell_type": "code",
   "execution_count": 101,
   "id": "0c179c65-f708-4d44-a74c-a700735b1076",
   "metadata": {
    "tags": []
   },
   "outputs": [],
   "source": [
    "pred = predictions['pred_binned']\n",
    "true = [ np.stack(list(t)) for t in sample.spect ]"
   ]
  },
  {
   "cell_type": "code",
   "execution_count": 102,
   "id": "1049d6db-b220-4e4e-9a81-503d5d8e4ba9",
   "metadata": {
    "tags": []
   },
   "outputs": [],
   "source": [
    "def to_matchms_spec(s):\n",
    "    return matchms.Spectrum(mz=s[:,0].astype(float),intensities=s[:,1].astype(float))"
   ]
  },
  {
   "cell_type": "code",
   "execution_count": 103,
   "id": "20ed9d4a-c9b2-4e87-848d-b755f624d22c",
   "metadata": {
    "tags": []
   },
   "outputs": [],
   "source": [
    "matchms.set_matchms_logger_level(\"ERROR\")\n",
    "\n",
    "#sim = matchms.similarity.CosineGreedy()\n",
    "# SDP\n",
    "# sim = matchms.similarity.CosineGreedy(mz_power=3., intensity_power=.6)\n",
    "\n",
    "# normal DP\n",
    "sim_dp = matchms.similarity.CosineGreedy(mz_power=1., intensity_power=.5)\n",
    "dp = [ sim_dp.pair(to_matchms_spec(true[i]),to_matchms_spec(pred[i])) for i in range(len(true)) ]\n",
    "dp = np.array([ float(s['score']) for s in dp ])\n",
    "\n",
    "sim_sdp = matchms.similarity.CosineGreedy(mz_power=3., intensity_power=.6)\n",
    "sdp = [ sim_sdp.pair(to_matchms_spec(true[i]),to_matchms_spec(pred[i])) for i in range(len(true)) ]\n",
    "sdp = np.array([ float(s['score']) for s in sdp ])\n"
   ]
  },
  {
   "cell_type": "code",
   "execution_count": 104,
   "id": "73bdaeb7-d8f8-4db7-a723-5439814f10ef",
   "metadata": {
    "tags": []
   },
   "outputs": [
    {
     "data": {
      "image/png": "[encoded data removed]",
      "text/plain": [
       "<Figure size 640x480 with 1 Axes>"
      ]
     },
     "metadata": {},
     "output_type": "display_data"
    }
   ],
   "source": [
    "win = 50\n",
    "smooth_dp = np.convolve(dp, np.ones(win)/win, mode='valid')\n",
    "smooth_sdp = np.convolve(sdp, np.ones(win)/win, mode='valid')\n",
    "\n",
    "plt.plot(smooth_dp,label='dp')\n",
    "plt.plot(smooth_sdp,label='sdp')\n",
    "plt.legend()\n",
    "#plt.plot([ float(s['matches']) for s in scores ])\n",
    "plt.show()"
   ]
  },
  {
   "cell_type": "code",
   "execution_count": 105,
   "id": "4c803891-dcbd-4198-8614-a0e9674ed382",
   "metadata": {
    "tags": []
   },
   "outputs": [
    {
     "data": {
      "image/png": "[encoded data removed]",
      "text/plain": [
       "<Figure size 1000x400 with 2 Axes>"
      ]
     },
     "metadata": {},
     "output_type": "display_data"
    }
   ],
   "source": [
    "bins = 70\n",
    "plt.figure(figsize=(10,4))\n",
    "plt.subplot(121)\n",
    "plt.hist(dp,label='dp',bins=bins)\n",
    "plt.title('dp')\n",
    "plt.subplot(122)\n",
    "plt.hist(sdp,label='sdp',bins=bins)\n",
    "plt.title('sdp')\n",
    "#lt.legend()\n",
    "plt.show()"
   ]
  },
  {
   "cell_type": "code",
   "execution_count": 106,
   "id": "258452d6-b2d8-4188-9c21-a69562ed4d47",
   "metadata": {
    "tags": []
   },
   "outputs": [
    {
     "data": {
      "text/plain": [
       "(0.6247502462593122, 0.21121839347367566)"
      ]
     },
     "execution_count": 106,
     "metadata": {},
     "output_type": "execute_result"
    }
   ],
   "source": [
    "np.mean(dp),np.std(dp)"
   ]
  },
  {
   "cell_type": "code",
   "execution_count": 107,
   "id": "4341f401-39ad-48ff-a84d-9f789db17cac",
   "metadata": {
    "tags": []
   },
   "outputs": [
    {
     "data": {
      "text/plain": [
       "(0.5535273248346485, 0.283938451422905)"
      ]
     },
     "execution_count": 107,
     "metadata": {},
     "output_type": "execute_result"
    }
   ],
   "source": [
    "np.mean(sdp),np.std(sdp)"
   ]
  },
  {
   "cell_type": "code",
   "execution_count": null,
   "id": "e1b692ca-93eb-4a76-93ba-b1c5d28ba105",
   "metadata": {},
   "outputs": [],
   "source": []
  }
 ],
 "metadata": {
  "kernelspec": {
   "display_name": "Python 3 (ipykernel)",
   "language": "python",
   "name": "python3"
  },
  "language_info": {
   "codemirror_mode": {
    "name": "ipython",
    "version": 3
   },
   "file_extension": ".py",
   "mimetype": "text/x-python",
   "name": "python",
   "nbconvert_exporter": "python",
   "pygments_lexer": "ipython3",
   "version": "3.8.13"
  }
 },
 "nbformat": 4,
 "nbformat_minor": 5
}
